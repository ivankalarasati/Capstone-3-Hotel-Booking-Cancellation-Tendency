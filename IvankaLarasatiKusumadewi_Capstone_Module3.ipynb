{
 "cells": [
  {
   "cell_type": "markdown",
   "metadata": {},
   "source": [
    "# Hotel Booking Cancellation Tendency\n",
    "### Created By : Ivanka Larasati Kusumadewi"
   ]
  },
  {
   "cell_type": "markdown",
   "metadata": {},
   "source": [
    "**Context**  \n",
    "Data ini berasal dari sistem manajemen pemesanan hotel dan mencakup berbagai fitur yang dapat memberikan wawasan tentang perilaku pelanggan dan pengelolaan pemesanan hotel. Setiap baris data mencerminkan sebuah pemesanan dengan informasi terkait pelanggan, tipe kamar yang dipesan, jenis permintaan khusus, status pembatalan, serta perubahan yang dilakukan pada pemesanan. Data ini bertujuan untuk menganalisis faktor-faktor yang mempengaruhi pembatalan pemesanan dan mengidentifikasi pola-pola yang dapat digunakan untuk memprediksi kemungkinan pembatalan di masa depan.\n",
    "\n",
    "**Target**\n",
    "- 0 : Tidak mencari cancel booking\n",
    "- 1 : Cancel booking"
   ]
  },
  {
   "cell_type": "markdown",
   "metadata": {},
   "source": [
    "**Problem Statement**\n",
    "\n",
    "Pembatalan pemesanan hotel menyebabkan kerugian finansial signifikan karena opportunity cost, yaitu pendapatan yang hilang akibat kamar yang kosong. Ketika sebuah pemesanan dibatalkan, hotel kehilangan kesempatan untuk mengisi kamar tersebut dengan pelanggan lain yang mungkin tidak hanya menginap, tetapi juga membeli layanan tambahan seperti sarapan, spa, atau layanan lainnya.\n",
    "\n",
    "**Goals**\n",
    "\n",
    "Untuk mengurangi kerugian akibat opportunity cost dengan memprediksi pembatalan pemesanan, sehingga hotel dapat mengoptimalkan alokasi sumber daya seperti staf dan fasilitas. Selain itu, analisis ini bertujuan untuk mengidentifikasi faktor-faktor utama yang mempengaruhi pembatalan, sehingga hotel dapat meningkatkan perencanaan operasional dan stabilitas pendapatan, serta meningkatkan kepuasan pelanggan dengan mengurangi ketidakpastian dalam proses pemesanan.\n",
    "\n",
    "**Analytic Approach**\n",
    "\n",
    "Analisis ini akan menggunakan algoritma klasifikasi untuk memprediksi pembatalan pemesanan berdasarkan fitur-fitur seperti tipe pelanggan dan perubahan pemesanan. Tujuannya adalah untuk mengidentifikasi faktor-faktor utama yang mempengaruhi pembatalan dan memberikan wawasan bagi hotel dalam mengoptimalkan sumber daya dan mengurangi kerugian.\n"
   ]
  },
  {
   "cell_type": "markdown",
   "metadata": {},
   "source": [
    "\n",
    "**Matric Evaluation**\n",
    "\n",
    "**Type 1 error : False Positive**\n",
    "\n",
    "**Deskripsi :** Ketika kita memprediksi bahwa pelanggan akan membatalkan pemesanan, tetapi kenyataannya pelanggan tidak jadi membatalkan.\n",
    "\n",
    "**Konsekuensi:**\n",
    "Hotel akan mengalokasikan sumber daya (seperti staf atau fasilitas) untuk pemesanan yang akhirnya tidak dibatalkan, yang menyebabkan pemborosan waktu dan biaya operasional. Ini juga bisa mengganggu perencanaan kapasitas hotel karena mereka bersiap untuk pembatalan yang tidak terjadi\n",
    "\n",
    "**Type 2 error : False Negative**  \n",
    "\n",
    "**Deskripsi :** Ketika kita memprediksi bahwa pelanggan tidak akan membatalkan pemesanan, tetapi ternyata pelanggan membatalkan pemesanan tersebut.\n",
    "\n",
    "**Konsekuensi :**\n",
    "Hotel kehilangan kesempatan untuk mengelola pemesanan yang dibatalkan, seperti mengisi kembali kamar yang kosong atau merencanakan sumber daya secara lebih efisien. Hal ini menyebabkan kerugian finansial karena kamar tidak dapat dijual kembali, yang berujung pada opportunity cost.\n",
    "\n",
    "Untuk problem ini, metric utama yang akan digunakan adalah Mmatrix recall"
   ]
  },
  {
   "cell_type": "markdown",
   "metadata": {},
   "source": [
    "## Data Understanding"
   ]
  },
  {
   "cell_type": "markdown",
   "metadata": {},
   "source": [
    "### Attribute Information\n",
    "\n",
    "| **Attribute**                    | **Data Type, Length** | **Description** |\n",
    "| --------------------------------- | --------------------- | --------------- |\n",
    "| **country**                       | Text                  | Country of origin of the customer. |\n",
    "| **market_segment**                | Text                  | Market segment designation (e.g., online travel agents, corporate, etc.). |\n",
    "| **previous_cancellations**        | Integer               | Number of previous bookings cancelled by the customer. |\n",
    "| **booking_changes**               | Integer               | Number of changes/amendments made to the booking after it was entered. |\n",
    "| **deposit_type**                  | Text                  | Indicates whether the customer made a deposit to guarantee the booking (e.g., no deposit, non-refundable, refundable). |\n",
    "| **days_in_waiting_list**          | Integer               | Number of days the booking was on the waiting list before it was confirmed. |\n",
    "| **customer_type**                 | Text                  | Type of booking (e.g., transient, contract, group). |\n",
    "| **reserved_room_type**            | Text                  | Code for the reserved room type (anonymized). |\n",
    "| **required_car_parking_space**   | Integer               | Number of car parking spaces required by the customer. |\n",
    "| **total_of_special_request**     | Integer               | Number of special requests made by the customer (e.g., twin bed, high floor). |\n",
    "| **is_canceled**                   | Integer               | Whether the booking was canceled (1 for canceled, 0 for not canceled). |\n"
   ]
  },
  {
   "cell_type": "code",
   "execution_count": 1,
   "metadata": {},
   "outputs": [],
   "source": [
    "# Library \n",
    "\n",
    "import pandas as pd\n",
    "import numpy as np\n",
    "from sklearn.model_selection import train_test_split, StratifiedKFold, cross_val_score\n",
    "from sklearn.preprocessing import StandardScaler, LabelEncoder\n",
    "from sklearn.metrics import classification_report, confusion_matrix, recall_score\n",
    "from sklearn.linear_model import LogisticRegression\n",
    "from sklearn.neighbors import KNeighborsClassifier\n",
    "from sklearn.svm import SVC\n",
    "from sklearn.tree import DecisionTreeClassifier\n",
    "from sklearn.ensemble import RandomForestClassifier\n",
    "\n",
    "from sklearn.metrics import accuracy_score, recall_score, precision_score, f1_score\n",
    "\n",
    "# Visualisasi distribusi target\n",
    "import seaborn as sns\n",
    "import matplotlib.pyplot as plt"
   ]
  },
  {
   "cell_type": "code",
   "execution_count": 2,
   "metadata": {},
   "outputs": [
    {
     "data": {
      "text/html": [
       "<div>\n",
       "<style scoped>\n",
       "    .dataframe tbody tr th:only-of-type {\n",
       "        vertical-align: middle;\n",
       "    }\n",
       "\n",
       "    .dataframe tbody tr th {\n",
       "        vertical-align: top;\n",
       "    }\n",
       "\n",
       "    .dataframe thead th {\n",
       "        text-align: right;\n",
       "    }\n",
       "</style>\n",
       "<table border=\"1\" class=\"dataframe\">\n",
       "  <thead>\n",
       "    <tr style=\"text-align: right;\">\n",
       "      <th></th>\n",
       "      <th>country</th>\n",
       "      <th>market_segment</th>\n",
       "      <th>previous_cancellations</th>\n",
       "      <th>booking_changes</th>\n",
       "      <th>deposit_type</th>\n",
       "      <th>days_in_waiting_list</th>\n",
       "      <th>customer_type</th>\n",
       "      <th>reserved_room_type</th>\n",
       "      <th>required_car_parking_spaces</th>\n",
       "      <th>total_of_special_requests</th>\n",
       "      <th>is_canceled</th>\n",
       "    </tr>\n",
       "  </thead>\n",
       "  <tbody>\n",
       "    <tr>\n",
       "      <th>0</th>\n",
       "      <td>IRL</td>\n",
       "      <td>Offline TA/TO</td>\n",
       "      <td>0</td>\n",
       "      <td>0</td>\n",
       "      <td>No Deposit</td>\n",
       "      <td>0</td>\n",
       "      <td>Transient-Party</td>\n",
       "      <td>A</td>\n",
       "      <td>0</td>\n",
       "      <td>0</td>\n",
       "      <td>0</td>\n",
       "    </tr>\n",
       "    <tr>\n",
       "      <th>1</th>\n",
       "      <td>FRA</td>\n",
       "      <td>Online TA</td>\n",
       "      <td>0</td>\n",
       "      <td>0</td>\n",
       "      <td>No Deposit</td>\n",
       "      <td>0</td>\n",
       "      <td>Transient</td>\n",
       "      <td>A</td>\n",
       "      <td>0</td>\n",
       "      <td>2</td>\n",
       "      <td>0</td>\n",
       "    </tr>\n",
       "    <tr>\n",
       "      <th>2</th>\n",
       "      <td>PRT</td>\n",
       "      <td>Online TA</td>\n",
       "      <td>0</td>\n",
       "      <td>1</td>\n",
       "      <td>No Deposit</td>\n",
       "      <td>0</td>\n",
       "      <td>Transient</td>\n",
       "      <td>A</td>\n",
       "      <td>0</td>\n",
       "      <td>2</td>\n",
       "      <td>0</td>\n",
       "    </tr>\n",
       "    <tr>\n",
       "      <th>3</th>\n",
       "      <td>NLD</td>\n",
       "      <td>Online TA</td>\n",
       "      <td>0</td>\n",
       "      <td>0</td>\n",
       "      <td>No Deposit</td>\n",
       "      <td>0</td>\n",
       "      <td>Transient</td>\n",
       "      <td>A</td>\n",
       "      <td>0</td>\n",
       "      <td>1</td>\n",
       "      <td>1</td>\n",
       "    </tr>\n",
       "    <tr>\n",
       "      <th>4</th>\n",
       "      <td>PRT</td>\n",
       "      <td>Online TA</td>\n",
       "      <td>0</td>\n",
       "      <td>2</td>\n",
       "      <td>No Deposit</td>\n",
       "      <td>0</td>\n",
       "      <td>Transient</td>\n",
       "      <td>A</td>\n",
       "      <td>0</td>\n",
       "      <td>2</td>\n",
       "      <td>0</td>\n",
       "    </tr>\n",
       "  </tbody>\n",
       "</table>\n",
       "</div>"
      ],
      "text/plain": [
       "  country market_segment  previous_cancellations  booking_changes  \\\n",
       "0     IRL  Offline TA/TO                       0                0   \n",
       "1     FRA      Online TA                       0                0   \n",
       "2     PRT      Online TA                       0                1   \n",
       "3     NLD      Online TA                       0                0   \n",
       "4     PRT      Online TA                       0                2   \n",
       "\n",
       "  deposit_type  days_in_waiting_list    customer_type reserved_room_type  \\\n",
       "0   No Deposit                     0  Transient-Party                  A   \n",
       "1   No Deposit                     0        Transient                  A   \n",
       "2   No Deposit                     0        Transient                  A   \n",
       "3   No Deposit                     0        Transient                  A   \n",
       "4   No Deposit                     0        Transient                  A   \n",
       "\n",
       "   required_car_parking_spaces  total_of_special_requests  is_canceled  \n",
       "0                            0                          0            0  \n",
       "1                            0                          2            0  \n",
       "2                            0                          2            0  \n",
       "3                            0                          1            1  \n",
       "4                            0                          2            0  "
      ]
     },
     "execution_count": 2,
     "metadata": {},
     "output_type": "execute_result"
    }
   ],
   "source": [
    "# 1. Load data\n",
    "df = pd.read_csv(\"data_hotel_booking_demand.csv\")\n",
    "df.head()"
   ]
  },
  {
   "cell_type": "code",
   "execution_count": 3,
   "metadata": {},
   "outputs": [
    {
     "name": "stdout",
     "output_type": "stream",
     "text": [
      "<class 'pandas.core.frame.DataFrame'>\n",
      "RangeIndex: 83573 entries, 0 to 83572\n",
      "Data columns (total 11 columns):\n",
      " #   Column                       Non-Null Count  Dtype \n",
      "---  ------                       --------------  ----- \n",
      " 0   country                      83222 non-null  object\n",
      " 1   market_segment               83573 non-null  object\n",
      " 2   previous_cancellations       83573 non-null  int64 \n",
      " 3   booking_changes              83573 non-null  int64 \n",
      " 4   deposit_type                 83573 non-null  object\n",
      " 5   days_in_waiting_list         83573 non-null  int64 \n",
      " 6   customer_type                83573 non-null  object\n",
      " 7   reserved_room_type           83573 non-null  object\n",
      " 8   required_car_parking_spaces  83573 non-null  int64 \n",
      " 9   total_of_special_requests    83573 non-null  int64 \n",
      " 10  is_canceled                  83573 non-null  int64 \n",
      "dtypes: int64(6), object(5)\n",
      "memory usage: 7.0+ MB\n"
     ]
    }
   ],
   "source": [
    "# Count and Datatype for each Column\n",
    "df.info()"
   ]
  },
  {
   "cell_type": "markdown",
   "metadata": {},
   "source": [
    "#### Visualisasi kolom `is_canceled`"
   ]
  },
  {
   "cell_type": "code",
   "execution_count": 4,
   "metadata": {},
   "outputs": [
    {
     "data": {
      "image/png": "[encoded data removed]",
      "text/plain": [
       "<Figure size 600x600 with 1 Axes>"
      ]
     },
     "metadata": {},
     "output_type": "display_data"
    }
   ],
   "source": [
    "# Menghitung jumlah pembatalan (1) dan tidak pembatalan (0)\n",
    "cancel_counts = df['is_canceled'].value_counts()\n",
    "\n",
    "# Membuat pie chart\n",
    "labels = ['Not Canceled', 'Canceled']\n",
    "colors = ['#66b3ff', '#ff6666']  # Warna untuk tidak dibatalkan dan dibatalkan\n",
    "plt.figure(figsize=(6, 6))\n",
    "plt.pie(cancel_counts, labels=labels, colors=colors, autopct='%1.1f%%', startangle=90, explode=(0.1, 0))\n",
    "plt.title('Hotel Booking Cancellation (Canceled vs Not Canceled)')\n",
    "plt.axis('equal')  # Membuat pie chart bulat\n",
    "plt.show()"
   ]
  },
  {
   "cell_type": "markdown",
   "metadata": {},
   "source": [
    "## Data Cleaning\n",
    "Beberapa kolom mungkin memiliki nilai kosong dan kita akan mengisi atau menghapusnya berdasarkan logika bisnis."
   ]
  },
  {
   "cell_type": "code",
   "execution_count": 5,
   "metadata": {},
   "outputs": [
    {
     "data": {
      "text/html": [
       "<div>\n",
       "<style scoped>\n",
       "    .dataframe tbody tr th:only-of-type {\n",
       "        vertical-align: middle;\n",
       "    }\n",
       "\n",
       "    .dataframe tbody tr th {\n",
       "        vertical-align: top;\n",
       "    }\n",
       "\n",
       "    .dataframe thead th {\n",
       "        text-align: right;\n",
       "    }\n",
       "</style>\n",
       "<table border=\"1\" class=\"dataframe\">\n",
       "  <thead>\n",
       "    <tr style=\"text-align: right;\">\n",
       "      <th></th>\n",
       "      <th>dataFeatures</th>\n",
       "      <th>dataType</th>\n",
       "      <th>null</th>\n",
       "      <th>nullPct</th>\n",
       "      <th>unique</th>\n",
       "      <th>uniqueSample</th>\n",
       "    </tr>\n",
       "  </thead>\n",
       "  <tbody>\n",
       "    <tr>\n",
       "      <th>0</th>\n",
       "      <td>country</td>\n",
       "      <td>object</td>\n",
       "      <td>351</td>\n",
       "      <td>0.42</td>\n",
       "      <td>162</td>\n",
       "      <td>[AND, BWA]</td>\n",
       "    </tr>\n",
       "    <tr>\n",
       "      <th>1</th>\n",
       "      <td>market_segment</td>\n",
       "      <td>object</td>\n",
       "      <td>0</td>\n",
       "      <td>0.00</td>\n",
       "      <td>8</td>\n",
       "      <td>[Direct, Groups]</td>\n",
       "    </tr>\n",
       "    <tr>\n",
       "      <th>2</th>\n",
       "      <td>previous_cancellations</td>\n",
       "      <td>int64</td>\n",
       "      <td>0</td>\n",
       "      <td>0.00</td>\n",
       "      <td>15</td>\n",
       "      <td>[26, 11]</td>\n",
       "    </tr>\n",
       "    <tr>\n",
       "      <th>3</th>\n",
       "      <td>booking_changes</td>\n",
       "      <td>int64</td>\n",
       "      <td>0</td>\n",
       "      <td>0.00</td>\n",
       "      <td>19</td>\n",
       "      <td>[8, 0]</td>\n",
       "    </tr>\n",
       "    <tr>\n",
       "      <th>4</th>\n",
       "      <td>deposit_type</td>\n",
       "      <td>object</td>\n",
       "      <td>0</td>\n",
       "      <td>0.00</td>\n",
       "      <td>3</td>\n",
       "      <td>[No Deposit, Refundable]</td>\n",
       "    </tr>\n",
       "    <tr>\n",
       "      <th>5</th>\n",
       "      <td>days_in_waiting_list</td>\n",
       "      <td>int64</td>\n",
       "      <td>0</td>\n",
       "      <td>0.00</td>\n",
       "      <td>115</td>\n",
       "      <td>[122, 100]</td>\n",
       "    </tr>\n",
       "    <tr>\n",
       "      <th>6</th>\n",
       "      <td>customer_type</td>\n",
       "      <td>object</td>\n",
       "      <td>0</td>\n",
       "      <td>0.00</td>\n",
       "      <td>4</td>\n",
       "      <td>[Group, Transient-Party]</td>\n",
       "    </tr>\n",
       "    <tr>\n",
       "      <th>7</th>\n",
       "      <td>reserved_room_type</td>\n",
       "      <td>object</td>\n",
       "      <td>0</td>\n",
       "      <td>0.00</td>\n",
       "      <td>10</td>\n",
       "      <td>[C, A]</td>\n",
       "    </tr>\n",
       "    <tr>\n",
       "      <th>8</th>\n",
       "      <td>required_car_parking_spaces</td>\n",
       "      <td>int64</td>\n",
       "      <td>0</td>\n",
       "      <td>0.00</td>\n",
       "      <td>5</td>\n",
       "      <td>[2, 3]</td>\n",
       "    </tr>\n",
       "    <tr>\n",
       "      <th>9</th>\n",
       "      <td>total_of_special_requests</td>\n",
       "      <td>int64</td>\n",
       "      <td>0</td>\n",
       "      <td>0.00</td>\n",
       "      <td>6</td>\n",
       "      <td>[5, 3]</td>\n",
       "    </tr>\n",
       "    <tr>\n",
       "      <th>10</th>\n",
       "      <td>is_canceled</td>\n",
       "      <td>int64</td>\n",
       "      <td>0</td>\n",
       "      <td>0.00</td>\n",
       "      <td>2</td>\n",
       "      <td>[0, 1]</td>\n",
       "    </tr>\n",
       "  </tbody>\n",
       "</table>\n",
       "</div>"
      ],
      "text/plain": [
       "                   dataFeatures dataType  null  nullPct  unique  \\\n",
       "0                       country   object   351     0.42     162   \n",
       "1                market_segment   object     0     0.00       8   \n",
       "2        previous_cancellations    int64     0     0.00      15   \n",
       "3               booking_changes    int64     0     0.00      19   \n",
       "4                  deposit_type   object     0     0.00       3   \n",
       "5          days_in_waiting_list    int64     0     0.00     115   \n",
       "6                 customer_type   object     0     0.00       4   \n",
       "7            reserved_room_type   object     0     0.00      10   \n",
       "8   required_car_parking_spaces    int64     0     0.00       5   \n",
       "9     total_of_special_requests    int64     0     0.00       6   \n",
       "10                  is_canceled    int64     0     0.00       2   \n",
       "\n",
       "                uniqueSample  \n",
       "0                 [AND, BWA]  \n",
       "1           [Direct, Groups]  \n",
       "2                   [26, 11]  \n",
       "3                     [8, 0]  \n",
       "4   [No Deposit, Refundable]  \n",
       "5                 [122, 100]  \n",
       "6   [Group, Transient-Party]  \n",
       "7                     [C, A]  \n",
       "8                     [2, 3]  \n",
       "9                     [5, 3]  \n",
       "10                    [0, 1]  "
      ]
     },
     "execution_count": 5,
     "metadata": {},
     "output_type": "execute_result"
    }
   ],
   "source": [
    "# Membuat deskripsi data\n",
    "listItem = []\n",
    "\n",
    "# Loop untuk setiap kolom dalam DataFrame\n",
    "for col in df.columns:\n",
    "    listItem.append([\n",
    "        col,  # Nama kolom\n",
    "        df[col].dtype,  # Tipe data kolom\n",
    "        df[col].isna().sum(),  # Jumlah nilai kosong\n",
    "        round((df[col].isna().sum() / len(df)) * 100, 2),  # Persentase nilai kosong\n",
    "        df[col].nunique(),  # Jumlah nilai unik\n",
    "        list(df[col].dropna().drop_duplicates().sample(2).values) if df[col].nunique() > 1 else list(df[col].dropna().unique())  # Sampel nilai unik\n",
    "    ])\n",
    "\n",
    "# Membuat DataFrame deskripsi\n",
    "dfDesc = pd.DataFrame(\n",
    "    columns=['dataFeatures', 'dataType', 'null', 'nullPct', 'unique', 'uniqueSample'],\n",
    "    data=listItem\n",
    ")\n",
    "\n",
    "# Menampilkan deskripsi data\n",
    "dfDesc"
   ]
  },
  {
   "cell_type": "markdown",
   "metadata": {},
   "source": [
    "#### Descriptive Statistics"
   ]
  },
  {
   "cell_type": "code",
   "execution_count": 6,
   "metadata": {},
   "outputs": [
    {
     "name": "stdout",
     "output_type": "stream",
     "text": [
      "Statistik Deskriptif Data Numerik:\n"
     ]
    },
    {
     "data": {
      "text/html": [
       "<div>\n",
       "<style scoped>\n",
       "    .dataframe tbody tr th:only-of-type {\n",
       "        vertical-align: middle;\n",
       "    }\n",
       "\n",
       "    .dataframe tbody tr th {\n",
       "        vertical-align: top;\n",
       "    }\n",
       "\n",
       "    .dataframe thead th {\n",
       "        text-align: right;\n",
       "    }\n",
       "</style>\n",
       "<table border=\"1\" class=\"dataframe\">\n",
       "  <thead>\n",
       "    <tr style=\"text-align: right;\">\n",
       "      <th></th>\n",
       "      <th>previous_cancellations</th>\n",
       "      <th>booking_changes</th>\n",
       "      <th>days_in_waiting_list</th>\n",
       "      <th>required_car_parking_spaces</th>\n",
       "      <th>total_of_special_requests</th>\n",
       "      <th>is_canceled</th>\n",
       "    </tr>\n",
       "  </thead>\n",
       "  <tbody>\n",
       "    <tr>\n",
       "      <th>count</th>\n",
       "      <td>83573.000000</td>\n",
       "      <td>83573.000000</td>\n",
       "      <td>83573.000000</td>\n",
       "      <td>83573.000000</td>\n",
       "      <td>83573.000000</td>\n",
       "      <td>83573.000000</td>\n",
       "    </tr>\n",
       "    <tr>\n",
       "      <th>mean</th>\n",
       "      <td>0.086798</td>\n",
       "      <td>0.220897</td>\n",
       "      <td>2.330561</td>\n",
       "      <td>0.062999</td>\n",
       "      <td>0.573211</td>\n",
       "      <td>0.368277</td>\n",
       "    </tr>\n",
       "    <tr>\n",
       "      <th>std</th>\n",
       "      <td>0.841011</td>\n",
       "      <td>0.648635</td>\n",
       "      <td>17.673051</td>\n",
       "      <td>0.246919</td>\n",
       "      <td>0.795163</td>\n",
       "      <td>0.482340</td>\n",
       "    </tr>\n",
       "    <tr>\n",
       "      <th>min</th>\n",
       "      <td>0.000000</td>\n",
       "      <td>0.000000</td>\n",
       "      <td>0.000000</td>\n",
       "      <td>0.000000</td>\n",
       "      <td>0.000000</td>\n",
       "      <td>0.000000</td>\n",
       "    </tr>\n",
       "    <tr>\n",
       "      <th>25%</th>\n",
       "      <td>0.000000</td>\n",
       "      <td>0.000000</td>\n",
       "      <td>0.000000</td>\n",
       "      <td>0.000000</td>\n",
       "      <td>0.000000</td>\n",
       "      <td>0.000000</td>\n",
       "    </tr>\n",
       "    <tr>\n",
       "      <th>50%</th>\n",
       "      <td>0.000000</td>\n",
       "      <td>0.000000</td>\n",
       "      <td>0.000000</td>\n",
       "      <td>0.000000</td>\n",
       "      <td>0.000000</td>\n",
       "      <td>0.000000</td>\n",
       "    </tr>\n",
       "    <tr>\n",
       "      <th>75%</th>\n",
       "      <td>0.000000</td>\n",
       "      <td>0.000000</td>\n",
       "      <td>0.000000</td>\n",
       "      <td>0.000000</td>\n",
       "      <td>1.000000</td>\n",
       "      <td>1.000000</td>\n",
       "    </tr>\n",
       "    <tr>\n",
       "      <th>max</th>\n",
       "      <td>26.000000</td>\n",
       "      <td>21.000000</td>\n",
       "      <td>391.000000</td>\n",
       "      <td>8.000000</td>\n",
       "      <td>5.000000</td>\n",
       "      <td>1.000000</td>\n",
       "    </tr>\n",
       "  </tbody>\n",
       "</table>\n",
       "</div>"
      ],
      "text/plain": [
       "       previous_cancellations  booking_changes  days_in_waiting_list  \\\n",
       "count            83573.000000     83573.000000          83573.000000   \n",
       "mean                 0.086798         0.220897              2.330561   \n",
       "std                  0.841011         0.648635             17.673051   \n",
       "min                  0.000000         0.000000              0.000000   \n",
       "25%                  0.000000         0.000000              0.000000   \n",
       "50%                  0.000000         0.000000              0.000000   \n",
       "75%                  0.000000         0.000000              0.000000   \n",
       "max                 26.000000        21.000000            391.000000   \n",
       "\n",
       "       required_car_parking_spaces  total_of_special_requests   is_canceled  \n",
       "count                 83573.000000               83573.000000  83573.000000  \n",
       "mean                      0.062999                   0.573211      0.368277  \n",
       "std                       0.246919                   0.795163      0.482340  \n",
       "min                       0.000000                   0.000000      0.000000  \n",
       "25%                       0.000000                   0.000000      0.000000  \n",
       "50%                       0.000000                   0.000000      0.000000  \n",
       "75%                       0.000000                   1.000000      1.000000  \n",
       "max                       8.000000                   5.000000      1.000000  "
      ]
     },
     "execution_count": 6,
     "metadata": {},
     "output_type": "execute_result"
    }
   ],
   "source": [
    "# Statistik deskriptif untuk data numerik\n",
    "print(\"Statistik Deskriptif Data Numerik:\")\n",
    "df.describe()"
   ]
  },
  {
   "cell_type": "code",
   "execution_count": 7,
   "metadata": {},
   "outputs": [
    {
     "name": "stdout",
     "output_type": "stream",
     "text": [
      "Statistik Deskriptif Data Kategorikal:\n"
     ]
    },
    {
     "data": {
      "text/html": [
       "<div>\n",
       "<style scoped>\n",
       "    .dataframe tbody tr th:only-of-type {\n",
       "        vertical-align: middle;\n",
       "    }\n",
       "\n",
       "    .dataframe tbody tr th {\n",
       "        vertical-align: top;\n",
       "    }\n",
       "\n",
       "    .dataframe thead th {\n",
       "        text-align: right;\n",
       "    }\n",
       "</style>\n",
       "<table border=\"1\" class=\"dataframe\">\n",
       "  <thead>\n",
       "    <tr style=\"text-align: right;\">\n",
       "      <th></th>\n",
       "      <th>country</th>\n",
       "      <th>market_segment</th>\n",
       "      <th>deposit_type</th>\n",
       "      <th>customer_type</th>\n",
       "      <th>reserved_room_type</th>\n",
       "    </tr>\n",
       "  </thead>\n",
       "  <tbody>\n",
       "    <tr>\n",
       "      <th>count</th>\n",
       "      <td>83222</td>\n",
       "      <td>83573</td>\n",
       "      <td>83573</td>\n",
       "      <td>83573</td>\n",
       "      <td>83573</td>\n",
       "    </tr>\n",
       "    <tr>\n",
       "      <th>unique</th>\n",
       "      <td>162</td>\n",
       "      <td>8</td>\n",
       "      <td>3</td>\n",
       "      <td>4</td>\n",
       "      <td>10</td>\n",
       "    </tr>\n",
       "    <tr>\n",
       "      <th>top</th>\n",
       "      <td>PRT</td>\n",
       "      <td>Online TA</td>\n",
       "      <td>No Deposit</td>\n",
       "      <td>Transient</td>\n",
       "      <td>A</td>\n",
       "    </tr>\n",
       "    <tr>\n",
       "      <th>freq</th>\n",
       "      <td>34097</td>\n",
       "      <td>39460</td>\n",
       "      <td>73352</td>\n",
       "      <td>62732</td>\n",
       "      <td>60041</td>\n",
       "    </tr>\n",
       "  </tbody>\n",
       "</table>\n",
       "</div>"
      ],
      "text/plain": [
       "       country market_segment deposit_type customer_type reserved_room_type\n",
       "count    83222          83573        83573         83573              83573\n",
       "unique     162              8            3             4                 10\n",
       "top        PRT      Online TA   No Deposit     Transient                  A\n",
       "freq     34097          39460        73352         62732              60041"
      ]
     },
     "execution_count": 7,
     "metadata": {},
     "output_type": "execute_result"
    }
   ],
   "source": [
    "# Statistik deskriptif untuk data kategorikal\n",
    "print(\"Statistik Deskriptif Data Kategorikal:\")\n",
    "df.describe(include=['object'])"
   ]
  },
  {
   "cell_type": "markdown",
   "metadata": {},
   "source": [
    "### Missing Value pada Kolom `Country`\n",
    "\n",
    "Pertama, saya akan mengisi NULL pada kolom `country` dengan 'Other' untuk data yg tidak diketahui.\n",
    "\n",
    "Kolom country penting karena menggambarkan asal pelanggan, yang bisa menjadi faktor dalam kecenderungan pembatalan.\n",
    "Missing values menunjukkan bahwa asal negara pelanggan tidak tercatat. Untuk menjaga integritas data, kita menetapkan nilai default 'Other' sebagai kategori untuk data yang tidak diketahui."
   ]
  },
  {
   "cell_type": "code",
   "execution_count": 8,
   "metadata": {},
   "outputs": [
    {
     "name": "stderr",
     "output_type": "stream",
     "text": [
      "C:\\Users\\Laras\\AppData\\Local\\Temp\\ipykernel_10856\\2673727109.py:2: FutureWarning: A value is trying to be set on a copy of a DataFrame or Series through chained assignment using an inplace method.\n",
      "The behavior will change in pandas 3.0. This inplace method will never work because the intermediate object on which we are setting values always behaves as a copy.\n",
      "\n",
      "For example, when doing 'df[col].method(value, inplace=True)', try using 'df.method({col: value}, inplace=True)' or df[col] = df[col].method(value) instead, to perform the operation inplace on the original object.\n",
      "\n",
      "\n",
      "  df['country'].fillna('Other', inplace=True)\n"
     ]
    }
   ],
   "source": [
    "# Mengisi nilai kosong pada kolom 'country' dengan 'Other'\n",
    "df['country'].fillna('Other', inplace=True)"
   ]
  },
  {
   "cell_type": "markdown",
   "metadata": {},
   "source": [
    "### Encoding Categorical Data"
   ]
  },
  {
   "cell_type": "code",
   "execution_count": 9,
   "metadata": {},
   "outputs": [],
   "source": [
    "categorical_cols = ['country', 'market_segment', 'deposit_type', 'customer_type', 'reserved_room_type']\n",
    "le = LabelEncoder()\n",
    "for col in categorical_cols:\n",
    "    df[col] = le.fit_transform(df[col])\n"
   ]
  },
  {
   "cell_type": "markdown",
   "metadata": {},
   "source": [
    "## Data Preprocessing\n"
   ]
  },
  {
   "cell_type": "markdown",
   "metadata": {},
   "source": [
    "1. Data Splitting"
   ]
  },
  {
   "cell_type": "code",
   "execution_count": 10,
   "metadata": {},
   "outputs": [],
   "source": [
    "# Pisahkan fitur dan target\n",
    "X = df.drop('is_canceled', axis=1)\n",
    "y = df['is_canceled']\n",
    "\n",
    "# Split data\n",
    "X_train, X_test, y_train, y_test = train_test_split(X, y, test_size=0.2, random_state=42)"
   ]
  },
  {
   "cell_type": "markdown",
   "metadata": {},
   "source": [
    "## Base Model\n",
    "\n",
    "Melakukan perbandingan base model untuk menentukan menggunakan model yang akan digunakan pada Machine Learning"
   ]
  },
  {
   "cell_type": "code",
   "execution_count": 11,
   "metadata": {},
   "outputs": [
    {
     "name": "stderr",
     "output_type": "stream",
     "text": [
      "C:\\Users\\Laras\\AppData\\Local\\Packages\\PythonSoftwareFoundation.Python.3.12_qbz5n2kfra8p0\\LocalCache\\local-packages\\Python312\\site-packages\\sklearn\\linear_model\\_logistic.py:469: ConvergenceWarning: lbfgs failed to converge (status=1):\n",
      "STOP: TOTAL NO. of ITERATIONS REACHED LIMIT.\n",
      "\n",
      "Increase the number of iterations (max_iter) or scale the data as shown in:\n",
      "    https://scikit-learn.org/stable/modules/preprocessing.html\n",
      "Please also refer to the documentation for alternative solver options:\n",
      "    https://scikit-learn.org/stable/modules/linear_model.html#logistic-regression\n",
      "  n_iter_i = _check_optimize_result(\n"
     ]
    },
    {
     "data": {
      "text/html": [
       "<div>\n",
       "<style scoped>\n",
       "    .dataframe tbody tr th:only-of-type {\n",
       "        vertical-align: middle;\n",
       "    }\n",
       "\n",
       "    .dataframe tbody tr th {\n",
       "        vertical-align: top;\n",
       "    }\n",
       "\n",
       "    .dataframe thead th {\n",
       "        text-align: right;\n",
       "    }\n",
       "</style>\n",
       "<table border=\"1\" class=\"dataframe\">\n",
       "  <thead>\n",
       "    <tr style=\"text-align: right;\">\n",
       "      <th></th>\n",
       "      <th>Model</th>\n",
       "      <th>Accuracy</th>\n",
       "      <th>Recall</th>\n",
       "      <th>Precision</th>\n",
       "      <th>F1-Score</th>\n",
       "    </tr>\n",
       "  </thead>\n",
       "  <tbody>\n",
       "    <tr>\n",
       "      <th>0</th>\n",
       "      <td>LogReg Base Training</td>\n",
       "      <td>0.773176</td>\n",
       "      <td>0.458847</td>\n",
       "      <td>0.861591</td>\n",
       "      <td>0.598799</td>\n",
       "    </tr>\n",
       "    <tr>\n",
       "      <th>1</th>\n",
       "      <td>LogReg Base Testing</td>\n",
       "      <td>0.777206</td>\n",
       "      <td>0.462872</td>\n",
       "      <td>0.865443</td>\n",
       "      <td>0.603154</td>\n",
       "    </tr>\n",
       "    <tr>\n",
       "      <th>2</th>\n",
       "      <td>KNN Base Training</td>\n",
       "      <td>0.799456</td>\n",
       "      <td>0.752027</td>\n",
       "      <td>0.717802</td>\n",
       "      <td>0.734516</td>\n",
       "    </tr>\n",
       "    <tr>\n",
       "      <th>3</th>\n",
       "      <td>KNN Base Testing</td>\n",
       "      <td>0.785821</td>\n",
       "      <td>0.740759</td>\n",
       "      <td>0.694206</td>\n",
       "      <td>0.716727</td>\n",
       "    </tr>\n",
       "    <tr>\n",
       "      <th>4</th>\n",
       "      <td>SVM Base Training</td>\n",
       "      <td>0.759924</td>\n",
       "      <td>0.406301</td>\n",
       "      <td>0.876805</td>\n",
       "      <td>0.555288</td>\n",
       "    </tr>\n",
       "    <tr>\n",
       "      <th>5</th>\n",
       "      <td>SVM Base Testing</td>\n",
       "      <td>0.764104</td>\n",
       "      <td>0.408734</td>\n",
       "      <td>0.883976</td>\n",
       "      <td>0.558998</td>\n",
       "    </tr>\n",
       "    <tr>\n",
       "      <th>6</th>\n",
       "      <td>Decision Tree Base Training</td>\n",
       "      <td>0.827455</td>\n",
       "      <td>0.724619</td>\n",
       "      <td>0.790237</td>\n",
       "      <td>0.756007</td>\n",
       "    </tr>\n",
       "    <tr>\n",
       "      <th>7</th>\n",
       "      <td>Decision Tree Base Testing</td>\n",
       "      <td>0.809812</td>\n",
       "      <td>0.700033</td>\n",
       "      <td>0.760889</td>\n",
       "      <td>0.729193</td>\n",
       "    </tr>\n",
       "    <tr>\n",
       "      <th>8</th>\n",
       "      <td>Random Forest Base Training</td>\n",
       "      <td>0.827455</td>\n",
       "      <td>0.731147</td>\n",
       "      <td>0.786163</td>\n",
       "      <td>0.757657</td>\n",
       "    </tr>\n",
       "    <tr>\n",
       "      <th>9</th>\n",
       "      <td>Random Forest Base Testing</td>\n",
       "      <td>0.810290</td>\n",
       "      <td>0.704449</td>\n",
       "      <td>0.759478</td>\n",
       "      <td>0.730929</td>\n",
       "    </tr>\n",
       "  </tbody>\n",
       "</table>\n",
       "</div>"
      ],
      "text/plain": [
       "                         Model  Accuracy    Recall  Precision  F1-Score\n",
       "0         LogReg Base Training  0.773176  0.458847   0.861591  0.598799\n",
       "1          LogReg Base Testing  0.777206  0.462872   0.865443  0.603154\n",
       "2            KNN Base Training  0.799456  0.752027   0.717802  0.734516\n",
       "3             KNN Base Testing  0.785821  0.740759   0.694206  0.716727\n",
       "4            SVM Base Training  0.759924  0.406301   0.876805  0.555288\n",
       "5             SVM Base Testing  0.764104  0.408734   0.883976  0.558998\n",
       "6  Decision Tree Base Training  0.827455  0.724619   0.790237  0.756007\n",
       "7   Decision Tree Base Testing  0.809812  0.700033   0.760889  0.729193\n",
       "8  Random Forest Base Training  0.827455  0.731147   0.786163  0.757657\n",
       "9   Random Forest Base Testing  0.810290  0.704449   0.759478  0.730929"
      ]
     },
     "execution_count": 11,
     "metadata": {},
     "output_type": "execute_result"
    }
   ],
   "source": [
    "\n",
    "# Helper function to train model and collect metrics\n",
    "def train_and_evaluate_with_split(model, model_name, X_train, X_test, y_train, y_test, metrics):\n",
    "    model.fit(X_train, y_train)\n",
    "    \n",
    "    # Training predictions\n",
    "    y_train_pred = model.predict(X_train)\n",
    "    metrics['Model'].append(f\"{model_name} Base Training\")\n",
    "    metrics['Accuracy'].append(accuracy_score(y_train, y_train_pred))\n",
    "    metrics['Recall'].append(recall_score(y_train, y_train_pred))\n",
    "    metrics['Precision'].append(precision_score(y_train, y_train_pred))\n",
    "    metrics['F1-Score'].append(f1_score(y_train, y_train_pred))\n",
    "    \n",
    "    # Testing predictions\n",
    "    y_test_pred = model.predict(X_test)\n",
    "    metrics['Model'].append(f\"{model_name} Base Testing\")\n",
    "    metrics['Accuracy'].append(accuracy_score(y_test, y_test_pred))\n",
    "    metrics['Recall'].append(recall_score(y_test, y_test_pred))\n",
    "    metrics['Precision'].append(precision_score(y_test, y_test_pred))\n",
    "    metrics['F1-Score'].append(f1_score(y_test, y_test_pred))\n",
    "    \n",
    "    return metrics\n",
    "\n",
    "# Initialize metrics dictionary\n",
    "metrics = {\n",
    "    'Model': [],\n",
    "    'Accuracy': [],\n",
    "    'Recall': [],\n",
    "    'Precision': [],\n",
    "    'F1-Score': []\n",
    "}\n",
    "\n",
    "# Models to evaluate\n",
    "models = {\n",
    "    'LogReg': LogisticRegression(),\n",
    "    'KNN': KNeighborsClassifier(),\n",
    "    'SVM': SVC(),\n",
    "    'Decision Tree': DecisionTreeClassifier(),\n",
    "    'Random Forest': RandomForestClassifier()\n",
    "}\n",
    "\n",
    "# Train and evaluate each model for both training and testing data\n",
    "for model_name, model in models.items():\n",
    "    metrics = train_and_evaluate_with_split(model, model_name, X_train, X_test, y_train, y_test, metrics)\n",
    "\n",
    "# Convert metrics dictionary to DataFrame for display\n",
    "metrics_df = pd.DataFrame(metrics)\n",
    "\n",
    "# Display the table\n",
    "metrics_df\n",
    "\n"
   ]
  },
  {
   "cell_type": "code",
   "execution_count": 12,
   "metadata": {},
   "outputs": [
    {
     "data": {
      "image/png": "[encoded data removed]",
      "text/plain": [
       "<Figure size 1200x600 with 1 Axes>"
      ]
     },
     "metadata": {},
     "output_type": "display_data"
    }
   ],
   "source": [
    "plt.figure(figsize=(12, 6))\n",
    "sns.barplot(x=\"Model\", y=\"Recall\", data=metrics_df, hue=\"Model\")\n",
    "plt.xticks(rotation=45)\n",
    "plt.title(\"Comparison of Recall Across Models (Training vs Testing)\")\n",
    "plt.show()\n"
   ]
  },
  {
   "cell_type": "markdown",
   "metadata": {},
   "source": [
    "Pada proyek ini, fokus utama adalah meminimalkan **False Negatives**, yaitu kondisi di mana sistem gagal mendeteksi pelanggan yang memiliki kecenderungan untuk membatalkan reservasi. False Negatives menyebabkan kerugian besar, seperti kamar yang kosong (vacant rooms), kehilangan pendapatan dari F&B, dan ketidakakuratan dalam peramalan permintaan. Oleh karena itu, metrik yang menjadi prioritas utama adalah Recall, yang menunjukkan sejauh mana model mampu menangkap semua pelanggan yang cenderung membatalkan reservasi\n",
    "\n",
    "Dari hasil evaluasi, **model KNN menunjukkan performa terbaik dalam hal Recall, dengan nilai 0.7520 pada Training dan 0.7408 pada Testing.** Hal ini menunjukkan bahwa KNN dapat mengidentifikasi pelanggan yang memiliki kecenderungan membatalkan reservasi dengan tingkat keberhasilan yang tinggi dibandingkan model lainnya\n",
    "\n",
    "Selain memiliki nilai Recall yang tinggi, model KNN juga menunjukkan generalisasi yang baik. Gap antara Recall Training (0.7520) dan Testing (0.7408) sangat kecil, yaitu hanya 0.011. **Hal ini menunjukkan bahwa KNN dapat bekerja secara konsisten pada data baru tanpa mengalami overfitting.**\n",
    "\n",
    "**Berdasarkan analisis tersebut, model KNN dipilih karena memiliki nilai Recall tertinggi pada data Training (0.7520) dan Testing (0.7408), serta menunjukkan performa yang konsisten tanpa overfitting. Model ini diharapkan mampu meminimalkan kerugian akibat pembatalan reservasi dengan mendeteksi pelanggan yang berpotensi membatalkan reservasi secara lebih efektif.**"
   ]
  },
  {
   "cell_type": "markdown",
   "metadata": {},
   "source": [
    "### Hyperparameter"
   ]
  },
  {
   "cell_type": "code",
   "execution_count": 13,
   "metadata": {},
   "outputs": [
    {
     "name": "stdout",
     "output_type": "stream",
     "text": [
      "Fitting 5 folds for each of 30 candidates, totalling 150 fits\n"
     ]
    },
    {
     "name": "stderr",
     "output_type": "stream",
     "text": [
      "C:\\Users\\Laras\\AppData\\Local\\Packages\\PythonSoftwareFoundation.Python.3.12_qbz5n2kfra8p0\\LocalCache\\local-packages\\Python312\\site-packages\\numpy\\ma\\core.py:2881: RuntimeWarning: invalid value encountered in cast\n",
      "  _data = np.array(data, dtype=dtype, copy=copy,\n"
     ]
    },
    {
     "name": "stdout",
     "output_type": "stream",
     "text": [
      "Best Parameters: {'metric': 'manhattan', 'n_neighbors': 5, 'weights': 'uniform'}\n",
      "Best Recall Score: 0.6921420760822762\n"
     ]
    }
   ],
   "source": [
    "from sklearn.model_selection import GridSearchCV\n",
    "\n",
    "# Define parameter grid\n",
    "param_grid = {\n",
    "    'n_neighbors': [3, 5, 7, 9, 11],\n",
    "    'weights': ['uniform', 'distance'],\n",
    "    'metric': ['euclidean', 'manhattan', 'minkowski']\n",
    "}\n",
    "\n",
    "# Initialize GridSearchCV\n",
    "grid_search = GridSearchCV(KNeighborsClassifier(), param_grid, cv=5, scoring='recall', verbose=1, n_jobs=-1)\n",
    "\n",
    "# Fit GridSearchCV\n",
    "grid_search.fit(X_train, y_train)\n",
    "\n",
    "# Best parameters and score\n",
    "print(\"Best Parameters:\", grid_search.best_params_)\n",
    "print(\"Best Recall Score:\", grid_search.best_score_)\n",
    "\n",
    "# Use the best model\n",
    "best_knn = grid_search.best_estimator_\n"
   ]
  },
  {
   "cell_type": "code",
   "execution_count": 14,
   "metadata": {},
   "outputs": [
    {
     "name": "stdout",
     "output_type": "stream",
     "text": [
      "Final Evaluation Metrics:\n",
      "Accuracy: 0.7861202512713132\n",
      "Recall: 0.7420673863264639\n",
      "Precision: 0.6942616679418516\n",
      "F1-Score: 0.7173689619732785\n"
     ]
    }
   ],
   "source": [
    "# Predict on Testing Data\n",
    "y_test_pred = best_knn.predict(X_test)\n",
    "\n",
    "# Evaluate metrics\n",
    "print(\"Final Evaluation Metrics:\")\n",
    "print(\"Accuracy:\", accuracy_score(y_test, y_test_pred))\n",
    "print(\"Recall:\", recall_score(y_test, y_test_pred))\n",
    "print(\"Precision:\", precision_score(y_test, y_test_pred))\n",
    "print(\"F1-Score:\", f1_score(y_test, y_test_pred))\n"
   ]
  },
  {
   "cell_type": "code",
   "execution_count": 15,
   "metadata": {},
   "outputs": [
    {
     "data": {
      "image/png": "[encoded data removed]",
      "text/plain": [
       "<Figure size 640x480 with 2 Axes>"
      ]
     },
     "metadata": {},
     "output_type": "display_data"
    }
   ],
   "source": [
    "from sklearn.metrics import confusion_matrix, ConfusionMatrixDisplay\n",
    "\n",
    "# Compute and plot confusion matrix\n",
    "cm = confusion_matrix(y_test, y_test_pred)\n",
    "disp = ConfusionMatrixDisplay(confusion_matrix=cm, display_labels=['Not Canceled', 'Canceled'])\n",
    "disp.plot(cmap='Blues')\n",
    "plt.title(\"Confusion Matrix for KNN\")\n",
    "plt.show()\n"
   ]
  },
  {
   "cell_type": "code",
   "execution_count": 16,
   "metadata": {},
   "outputs": [
    {
     "name": "stdout",
     "output_type": "stream",
     "text": [
      "Cross-Validation Recall Scores: [0.73991486 0.69329009 0.68619501 0.68430657 0.65700385]\n",
      "Mean Recall: 0.6921420760822762\n",
      "Standard Deviation: 0.026888712389716758\n"
     ]
    }
   ],
   "source": [
    "from sklearn.model_selection import cross_val_score\n",
    "\n",
    "# Perform cross-validation\n",
    "cv_scores = cross_val_score(best_knn, X_train, y_train, cv=5, scoring='recall')\n",
    "\n",
    "print(\"Cross-Validation Recall Scores:\", cv_scores)\n",
    "print(\"Mean Recall:\", cv_scores.mean())\n",
    "print(\"Standard Deviation:\", cv_scores.std())"
   ]
  },
  {
   "cell_type": "markdown",
   "metadata": {},
   "source": [
    "Simpan model melalui pickle"
   ]
  },
  {
   "cell_type": "code",
   "execution_count": 17,
   "metadata": {},
   "outputs": [],
   "source": [
    "import pickle\n",
    "with open('best_knn.pkl', 'wb') as file:\n",
    "    pickle.dump(model, file)\n"
   ]
  }
 ],
 "metadata": {
  "kernelspec": {
   "display_name": "Python 3",
   "language": "python",
   "name": "python3"
  },
  "language_info": {
   "codemirror_mode": {
    "name": "ipython",
    "version": 3
   },
   "file_extension": ".py",
   "mimetype": "text/x-python",
   "name": "python",
   "nbconvert_exporter": "python",
   "pygments_lexer": "ipython3",
   "version": "3.12.8"
  }
 },
 "nbformat": 4,
 "nbformat_minor": 2
}
